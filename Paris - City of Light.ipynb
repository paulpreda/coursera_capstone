{
    "cells": [
        {
            "cell_type": "markdown",
            "metadata": {
                "collapsed": true
            },
            "source": "# Paris - City of Light\n## Capstone Project - The Battle of the Neighborhoods\n### Applied Data Science Capstone by IBM/Coursera"
        },
        {
            "cell_type": "markdown",
            "metadata": {},
            "source": "## Table of contents\n* [Introduction: Business Problem](#introduction)\n* [Data](#data)\n* [Methodology](#methodology)\n* [Analysis](#analysis)\n* [Results and Discussion](#results)\n* [Conclusion](#conclusion)"
        },
        {
            "cell_type": "markdown",
            "metadata": {},
            "source": "## I. Introduction: Business Problem <a name=\"introduction\"></a>"
        },
        {
            "cell_type": "markdown",
            "metadata": {},
            "source": "In this project we will try to help the **Mayor of Paris** and his colleagues nearby Paris to adjust the **City policies** in order to encourage **social diversity** and to increase the **attractiveness of the neighborhoods**.\n\nParis is a tremendous city of 2 million inhabitants, with a very rich offer of culture, history but also gastronomy and nature. Around, the \"Ile de France\" region is the biggest european region in terms of population and GDP. Real estate is quite expensive, and there are important discrepancies among the 20 Paris districts (\"Arrondissements\") and the cities which are very close to Paris.\n\nOur project will focus on East Paris (10 arrondissements) and 10 surrounding cities close to East Paris. Data collection and interpretation will focus on two distinct parts:\n- first, we will examine the **real estate** price per \"Arrondissement\" or city, based on the available public data of Real Estate transactions. We will calculate the average price per square meter per city.\n- second, we will find the most **popular venues** and segment the neighborhoods according to the typology of their venues. Of course, Foursquera will be used to collect the associated data.\n\nOnce we have the Real Estate prices associated to each Quartier and the Venues profile, we will try to find a **correlation** between the two types of data and describe what is the **venue segment associated with a \"expensive\", \"medium\" and \"low price\" neighborhood**.\n\nWe will than use then our data science powers to make some recommendation for the Mayor in order to adjust the City Policies. Particularly, we will try to find **what kind of venues** should be encouraged in order to increase the **attractiveness of the low price neighborhoods**."
        },
        {
            "cell_type": "markdown",
            "metadata": {},
            "source": "## II. Data <a name=\"data\"></a>"
        },
        {
            "cell_type": "markdown",
            "metadata": {},
            "source": "https://www.data.gouv.fr/fr/datasets/demandes-de-valeurs-foncieres-geolocalisees/\n\nhttps://www.data.gouv.fr/fr/datasets/les-communes-d-ile-de-france-idf/\n\n\n"
        },
        {
            "cell_type": "code",
            "execution_count": null,
            "metadata": {},
            "outputs": [],
            "source": "# Load package for sql magic\n\n!conda install -c conda-forge ipython-sql\n"
        },
        {
            "cell_type": "markdown",
            "metadata": {},
            "source": "Import necessary libraries"
        },
        {
            "cell_type": "code",
            "execution_count": 1,
            "metadata": {},
            "outputs": [
                {
                    "name": "stdout",
                    "output_type": "stream",
                    "text": "Solving environment: done\n\n# All requested packages already installed.\n\nSolving environment: | ^C\nfailed\n\nCondaError: KeyboardInterrupt\n\nLibraries imported.\n"
                }
            ],
            "source": "import numpy as np # library to handle data in a vectorized manner\n\nimport pandas as pd # library for data analsysis\npd.set_option('display.max_columns', None)\npd.set_option('display.max_rows', None)\n\nimport json # library to handle JSON files\n\n!conda install -c conda-forge geopy --yes # uncomment this line if you haven't completed the Foursquare API lab\nfrom geopy.geocoders import Nominatim # convert an address into latitude and longitude values\n\nimport requests # library to handle requests\nfrom pandas.io.json import json_normalize # tranform JSON file into a pandas dataframe\n\n# Matplotlib and associated plotting modules\nimport matplotlib.cm as cm\nimport matplotlib.colors as colors\n\n# import k-means from clustering stage\nfrom sklearn.cluster import KMeans\n\n!conda install -c conda-forge folium=0.5.0 --yes # uncomment this line if you haven't completed the Foursquare API lab\nimport folium # map rendering library\n\nprint('Libraries imported.')"
        },
        {
            "cell_type": "markdown",
            "metadata": {},
            "source": "### Foursquera"
        },
        {
            "cell_type": "code",
            "execution_count": null,
            "metadata": {},
            "outputs": [],
            "source": "# The code was removed by Watson Studio for sharing."
        },
        {
            "cell_type": "code",
            "execution_count": null,
            "metadata": {},
            "outputs": [],
            "source": "latitude = 48.8534\nlongitude = 2.4488\n# create map and display it\nparis_east_map = folium.Map(location=[latitude, longitude], zoom_start=13)\n\n# display the map of East Paris\nparis_east_map"
        },
        {
            "cell_type": "markdown",
            "metadata": {},
            "source": "Mark on the map the boundaries of the cities and \"Arrondissements\" nearby East Paris.\n\nUse for this the site https://france-geojson.gregoiredavid.fr"
        },
        {
            "cell_type": "code",
            "execution_count": null,
            "metadata": {},
            "outputs": [],
            "source": "!wget --quiet https://france-geojson.gregoiredavid.fr/repo/regions/ile-de-france/communes-ile-de-france.geojson -O communes-ile-de-france.geojson\n    \nprint('GeoJSON file downloaded!')\n\n#communes_ile_de_france = 'Communes_IDF.json'\n\ncommunes_ile_de_france = r'communes-ile-de-france.geojson'\n\nprint(communes_ile_de_france)\n\nfolium.GeoJson(\n    communes_ile_de_france\n).add_to(paris_east_map)\n\nparis_east_map"
        },
        {
            "cell_type": "code",
            "execution_count": null,
            "metadata": {},
            "outputs": [],
            "source": "list_of_cities = ['Paris 2']"
        },
        {
            "cell_type": "code",
            "execution_count": null,
            "metadata": {},
            "outputs": [],
            "source": "# The code was removed by Watson Studio for sharing."
        },
        {
            "cell_type": "code",
            "execution_count": null,
            "metadata": {},
            "outputs": [],
            "source": "df_list = [df_data_1, df_data_2, df_data_3]\nrestate_primary_data = pd.concat(df_list)\n\nrestate_primary_data.head(100)"
        },
        {
            "cell_type": "code",
            "execution_count": null,
            "metadata": {},
            "outputs": [],
            "source": "restate_primary_data = restate_primary_data[['id_mutation', 'date_mutation', 'nature_mutation', 'valeur_fonciere', 'adresse_numero', 'adresse_nom_voie', 'code_postal', 'nom_commune', 'type_local', 'surface_reelle_bati', 'longitude', 'latitude']]\nrestate_primary_data.shape"
        },
        {
            "cell_type": "code",
            "execution_count": null,
            "metadata": {},
            "outputs": [],
            "source": "restate_primary_data.replace({'adresse_numero': np.NaN}, value=0, inplace=True)\nrestate_primary_data.astype({'adresse_numero': 'int64'}, copy=False)\nrestate_primary_data.replace({'code_postal': np.NaN}, value=0, inplace=True)\nrestate_primary_data.astype({'code_postal': 'int64'}, copy=False)\nrestate_primary_data.head(50)"
        },
        {
            "cell_type": "code",
            "execution_count": null,
            "metadata": {},
            "outputs": [],
            "source": "restate_primary_data.dtypes"
        },
        {
            "cell_type": "markdown",
            "metadata": {},
            "source": "## III. Methodology <a name=\"methodology\"></a>"
        },
        {
            "cell_type": "markdown",
            "metadata": {},
            "source": "## IV. Analysis <a name=\"analysis\"></a>"
        },
        {
            "cell_type": "markdown",
            "metadata": {},
            "source": "## V. Results and Discussion <a name=\"results\"></a>"
        },
        {
            "cell_type": "markdown",
            "metadata": {},
            "source": "## VI. Conclusion <a name=\"conclusion\"></a>"
        },
        {
            "cell_type": "code",
            "execution_count": null,
            "metadata": {},
            "outputs": [],
            "source": ""
        }
    ],
    "metadata": {
        "kernelspec": {
            "display_name": "Python 3.6 with Spark",
            "language": "python3",
            "name": "python36"
        },
        "language_info": {
            "codemirror_mode": {
                "name": "ipython",
                "version": 3
            },
            "file_extension": ".py",
            "mimetype": "text/x-python",
            "name": "python",
            "nbconvert_exporter": "python",
            "pygments_lexer": "ipython3",
            "version": "3.6.8"
        }
    },
    "nbformat": 4,
    "nbformat_minor": 1
}